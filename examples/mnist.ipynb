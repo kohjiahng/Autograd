{
 "cells": [
  {
   "cell_type": "code",
   "execution_count": 1,
   "metadata": {},
   "outputs": [],
   "source": [
    "import sys\n",
    "sys.path.insert(1, '../')\n",
    "from torchvision.datasets import MNIST\n",
    "from autograd import tensor\n",
    "from autograd import modules\n",
    "from autograd.dataloader import DataLoader\n",
    "from autograd.losses import CrossEntropyLoss, MSELoss\n",
    "import logging\n",
    "import logging_settings\n",
    "import numpy as np"
   ]
  },
  {
   "cell_type": "code",
   "execution_count": 2,
   "metadata": {},
   "outputs": [],
   "source": [
    "mnist_trainset = MNIST(root='./data', train=False,download=True,transform=None)\n",
    "mnist_testset = MNIST(root='./data', train=False, download=True, transform=None)"
   ]
  },
  {
   "cell_type": "code",
   "execution_count": 3,
   "metadata": {},
   "outputs": [],
   "source": [
    "class MNISTDataset:\n",
    "    def __init__(self, mnist):\n",
    "        self.mnist = mnist\n",
    "    def __len__(self):\n",
    "        return len(self.mnist)\n",
    "    def __getitem__(self, idx):\n",
    "        pil_image, label = self.mnist[idx]\n",
    "        label_onehot = np.zeros(10,dtype='float64')\n",
    "        label_onehot[label] = 1\n",
    "        return np.asarray(pil_image).astype('float64') / 255, label_onehot"
   ]
  },
  {
   "cell_type": "code",
   "execution_count": 4,
   "metadata": {},
   "outputs": [],
   "source": [
    "train_dataset = MNISTDataset(mnist_trainset)\n",
    "test_dataset = MNISTDataset(mnist_testset)\n",
    "train_dataloader = DataLoader(train_dataset)\n",
    "test_dataloader = DataLoader(test_dataset)"
   ]
  },
  {
   "cell_type": "code",
   "execution_count": 6,
   "metadata": {},
   "outputs": [],
   "source": [
    "model = modules.Sequential(\n",
    "    [\n",
    "        modules.Flatten(),\n",
    "        modules.Linear(784, 250),\n",
    "        modules.ReLU(),\n",
    "        modules.Linear(250, 10),\n",
    "        modules.Softmax()\n",
    "    ]\n",
    ")"
   ]
  },
  {
   "cell_type": "code",
   "execution_count": 7,
   "metadata": {},
   "outputs": [],
   "source": [
    "loss_function = CrossEntropyLoss()\n",
    "lr = 0.01\n",
    "loss_log = {'train_loss': [], 'test_loss': [], 'train_accuracy': [], 'test_accuracy': []}"
   ]
  },
  {
   "cell_type": "code",
   "execution_count": null,
   "metadata": {},
   "outputs": [],
   "source": [
    "# train for X epochs:\n",
    "    # train and save results model implements train (optimizer)\n",
    "    # test and save results\n",
    "    # print results"
   ]
  },
  {
   "cell_type": "code",
   "execution_count": null,
   "metadata": {},
   "outputs": [],
   "source": [
    "# Model wrapper (Model Trainer)\n",
    "# Keeps logs, optimizer, inputs to model from dataloader\n",
    "# function train: inputs dataloader, "
   ]
  },
  {
   "cell_type": "code",
   "execution_count": null,
   "metadata": {},
   "outputs": [],
   "source": [
    "class ModelTrainer:\n",
    "    def __init__(self, model, optimizer, loss, metrics):\n",
    "        '''\n",
    "        metrics are loss (default) and accuracy \n",
    "        '''\n",
    "        if 'loss' not in metrics:\n",
    "            metrics.append('loss')\n",
    "\n",
    "        self.model = model\n",
    "        self.optimizer = optimizer\n",
    "        self.loss = loss\n",
    "        self.metrics = metrics\n",
    "        self.train_log = {metric:[] for metric in metrics}\n",
    "        self.test_log = {metric:[] for metric in metrics}\n",
    "    def train(self, dataloader):\n",
    "        '''\n",
    "        Trains self.model for one epoch\n",
    "        dataloader returns a tuple of (arguments, targets)\n",
    "        Assumed that the last element are targets, rest of the elements are passed into self.model \n",
    "        '''\n",
    "        for metric in self.metrics:\n",
    "            self.train_log[metric].append(0)\n",
    "        for data in dataloader:\n",
    "            output = self.model(*data[:-1])\n",
    "            loss = self.loss(output, data[-1])\n",
    "\n",
    "            self.train_log['loss'][-1] += loss.item() * len(data[-1]) # Assumes loss is averaged\n",
    "            if 'accuracy' in self.metrics:\n",
    "                self.train_log['accuracy'][-1] += (output.asarray().argmax(-1) == data[-1].argmax(-1)).asarray().sum()\n",
    "\n",
    "            loss.backward()\n",
    "            self.optimizer.step()\n",
    "        for metric in self.metrics:\n",
    "            self.train_log[metric][-1] /= len(dataloader.dataset)\n",
    "        "
   ]
  },
  {
   "cell_type": "code",
   "execution_count": 11,
   "metadata": {},
   "outputs": [
    {
     "name": "stdout",
     "output_type": "stream",
     "text": [
      "Epoch 1\n",
      "Epoch 2\n",
      "Epoch 3\n",
      "Epoch 4\n",
      "Epoch 5\n",
      "Epoch 6\n",
      "Epoch 7\n",
      "Epoch 8\n",
      "Epoch 9\n",
      "Epoch 10\n",
      "Epoch 11\n",
      "Epoch 12\n",
      "Epoch 13\n",
      "Epoch 14\n",
      "Epoch 15\n",
      "Epoch 16\n",
      "Epoch 17\n",
      "Epoch 18\n",
      "Epoch 19\n",
      "Epoch 20\n"
     ]
    }
   ],
   "source": [
    "for epoch in range(20):\n",
    "    train_loss, test_loss = 0, 0\n",
    "    train_ncorrect, test_ncorrect = 0,0\n",
    "    print(f\"Epoch {epoch+1}\")\n",
    "    for x, y in train_dataloader:\n",
    "        yhat = model(tensor.tensor(x))\n",
    "        loss = loss_function(yhat, tensor.tensor(y))\n",
    "        train_loss += loss.item() * len(y)\n",
    "\n",
    "        train_ncorrect += (yhat.asarray().argmax(axis=-1) == y.argmax(axis=-1)).sum()\n",
    "        loss.backward()\n",
    "        for parameter in model.parameters():\n",
    "            parameter -= lr * parameter.grad\n",
    "    train_loss /= len(train_dataloader.dataset)\n",
    "\n",
    "    for x, y in test_dataloader:\n",
    "        yhat = model(x)\n",
    "        loss = loss_function(yhat, y)\n",
    "        test_loss += loss.item() * len(y)\n",
    "        loss.clear_graph()\n",
    "        test_ncorrect += (yhat.asarray().argmax(axis=-1) == y.argmax(axis=-1)).sum()\n",
    "        \n",
    "    test_loss /= len(test_dataloader.dataset)\n",
    "    loss_log['train_loss'].append(train_loss)\n",
    "    loss_log['test_loss'].append(test_loss)\n",
    "    loss_log['train_accuracy'].append(train_ncorrect / len(train_dataloader.dataset))\n",
    "    loss_log['test_accuracy'].append(test_ncorrect / len(test_dataloader.dataset))"
   ]
  },
  {
   "cell_type": "code",
   "execution_count": 12,
   "metadata": {},
   "outputs": [
    {
     "data": {
      "text/plain": [
       "<matplotlib.legend.Legend at 0x2048807d2b0>"
      ]
     },
     "execution_count": 12,
     "metadata": {},
     "output_type": "execute_result"
    },
    {
     "data": {
      "image/png": "[encoded data removed]",
      "text/plain": [
       "<Figure size 432x288 with 1 Axes>"
      ]
     },
     "metadata": {
      "needs_background": "light"
     },
     "output_type": "display_data"
    }
   ],
   "source": [
    "import matplotlib.pyplot as plt\n",
    "plt.plot(loss_log['train_loss'][1:], label='train')\n",
    "plt.plot(loss_log['test_loss'][1:], label='test')\n",
    "plt.legend()"
   ]
  },
  {
   "cell_type": "code",
   "execution_count": 13,
   "metadata": {},
   "outputs": [
    {
     "data": {
      "text/plain": [
       "[<matplotlib.lines.Line2D at 0x2048810ce50>]"
      ]
     },
     "execution_count": 13,
     "metadata": {},
     "output_type": "execute_result"
    },
    {
     "data": {
      "image/png": "[encoded data removed]",
      "text/plain": [
       "<Figure size 432x288 with 1 Axes>"
      ]
     },
     "metadata": {
      "needs_background": "light"
     },
     "output_type": "display_data"
    }
   ],
   "source": [
    "import matplotlib.pyplot as plt\n",
    "plt.plot(loss_log['train_accuracy'], label='train')\n",
    "plt.plot(loss_log['test_accuracy'], label='test')"
   ]
  },
  {
   "cell_type": "code",
   "execution_count": 15,
   "metadata": {},
   "outputs": [
    {
     "data": {
      "text/plain": [
       "0.9175"
      ]
     },
     "execution_count": 15,
     "metadata": {},
     "output_type": "execute_result"
    }
   ],
   "source": [
    "max(loss_log['test_accuracy'])"
   ]
  }
 ],
 "metadata": {
  "interpreter": {
   "hash": "7812ea015bdcee6f23a998adcdd2ef97c151c0c241b7b7070987d9313e41299d"
  },
  "kernelspec": {
   "display_name": "Python 3.9.7 64-bit",
   "name": "python3"
  },
  "language_info": {
   "codemirror_mode": {
    "name": "ipython",
    "version": 3
   },
   "file_extension": ".py",
   "mimetype": "text/x-python",
   "name": "python",
   "nbconvert_exporter": "python",
   "pygments_lexer": "ipython3",
   "version": "3.9.9"
  },
  "orig_nbformat": 4
 },
 "nbformat": 4,
 "nbformat_minor": 2
}

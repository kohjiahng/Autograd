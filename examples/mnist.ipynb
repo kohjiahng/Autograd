{
 "cells": [
  {
   "cell_type": "code",
   "execution_count": 1,
   "metadata": {},
   "outputs": [],
   "source": [
    "import sys\n",
    "sys.path.insert(1, '../')\n",
    "from torchvision.datasets import MNIST\n",
    "from autograd import tensor\n",
    "from autograd import modules\n",
    "from autograd.dataloader import DataLoader\n",
    "from autograd.losses import CrossEntropyLoss, MSELoss\n",
    "import logging\n",
    "import logging_settings\n",
    "import numpy as np"
   ]
  },
  {
   "cell_type": "code",
   "execution_count": 4,
   "metadata": {},
   "outputs": [],
   "source": [
    "mnist_trainset = MNIST(root='./data', train=False,download=True,transform=None)\n",
    "mnist_testset = MNIST(root='./data', train=False, download=True, transform=None)"
   ]
  },
  {
   "cell_type": "code",
   "execution_count": 5,
   "metadata": {},
   "outputs": [],
   "source": [
    "class MNISTDataset:\n",
    "    def __init__(self, mnist):\n",
    "        self.mnist = mnist\n",
    "    def __len__(self):\n",
    "        return len(self.mnist)\n",
    "    def __getitem__(self, idx):\n",
    "        pil_image, label = self.mnist[idx]\n",
    "        label_onehot = np.zeros(10,dtype='float64')\n",
    "        label_onehot[label] = 1\n",
    "        return np.asarray(pil_image).astype('float64') / 255, label_onehot"
   ]
  },
  {
   "cell_type": "code",
   "execution_count": 6,
   "metadata": {},
   "outputs": [],
   "source": [
    "train_dataset = MNISTDataset(mnist_trainset)\n",
    "test_dataset = MNISTDataset(mnist_testset)\n",
    "train_dataloader = DataLoader(train_dataset)\n",
    "test_dataloader = DataLoader(test_dataset)"
   ]
  },
  {
   "cell_type": "code",
   "execution_count": 40,
   "metadata": {},
   "outputs": [],
   "source": [
    "model = modules.Sequential(\n",
    "    [\n",
    "        modules.Flatten(),\n",
    "        modules.Linear(784, 250),\n",
    "        modules.ReLU(),\n",
    "        modules.Linear(250, 10),\n",
    "        modules.Softmax()\n",
    "    ]\n",
    ")"
   ]
  },
  {
   "cell_type": "code",
   "execution_count": 41,
   "metadata": {},
   "outputs": [],
   "source": [
    "loss_function = CrossEntropyLoss()\n",
    "lr = 0.01\n",
    "loss_log = {'train_loss': [], 'test_loss': [], 'train_accuracy': [], 'test_accuracy': []}"
   ]
  },
  {
   "cell_type": "code",
   "execution_count": 42,
   "metadata": {},
   "outputs": [
    {
     "name": "stdout",
     "output_type": "stream",
     "text": [
      "Epoch 1\n",
      "Epoch 2\n",
      "Epoch 3\n",
      "Epoch 4\n",
      "Epoch 5\n",
      "Epoch 6\n",
      "Epoch 7\n",
      "Epoch 8\n",
      "Epoch 9\n",
      "Epoch 10\n",
      "Epoch 11\n",
      "Epoch 12\n",
      "Epoch 13\n",
      "Epoch 14\n",
      "Epoch 15\n",
      "Epoch 16\n",
      "Epoch 17\n",
      "Epoch 18\n",
      "Epoch 19\n",
      "Epoch 20\n",
      "Epoch 21\n",
      "Epoch 22\n",
      "Epoch 23\n",
      "Epoch 24\n",
      "Epoch 25\n",
      "Epoch 26\n",
      "Epoch 27\n",
      "Epoch 28\n",
      "Epoch 29\n",
      "Epoch 30\n",
      "Epoch 31\n",
      "Epoch 32\n",
      "Epoch 33\n",
      "Epoch 34\n",
      "Epoch 35\n",
      "Epoch 36\n",
      "Epoch 37\n",
      "Epoch 38\n",
      "Epoch 39\n",
      "Epoch 40\n",
      "Epoch 41\n",
      "Epoch 42\n",
      "Epoch 43\n",
      "Epoch 44\n",
      "Epoch 45\n",
      "Epoch 46\n",
      "Epoch 47\n",
      "Epoch 48\n",
      "Epoch 49\n",
      "Epoch 50\n",
      "Epoch 51\n",
      "Epoch 52\n",
      "Epoch 53\n",
      "Epoch 54\n",
      "Epoch 55\n",
      "Epoch 56\n",
      "Epoch 57\n",
      "Epoch 58\n",
      "Epoch 59\n",
      "Epoch 60\n",
      "Epoch 61\n",
      "Epoch 62\n",
      "Epoch 63\n",
      "Epoch 64\n",
      "Epoch 65\n",
      "Epoch 66\n",
      "Epoch 67\n",
      "Epoch 68\n",
      "Epoch 69\n",
      "Epoch 70\n",
      "Epoch 71\n",
      "Epoch 72\n",
      "Epoch 73\n",
      "Epoch 74\n",
      "Epoch 75\n",
      "Epoch 76\n",
      "Epoch 77\n",
      "Epoch 78\n",
      "Epoch 79\n",
      "Epoch 80\n",
      "Epoch 81\n",
      "Epoch 82\n",
      "Epoch 83\n",
      "Epoch 84\n",
      "Epoch 85\n",
      "Epoch 86\n",
      "Epoch 87\n",
      "Epoch 88\n",
      "Epoch 89\n",
      "Epoch 90\n",
      "Epoch 91\n",
      "Epoch 92\n",
      "Epoch 93\n",
      "Epoch 94\n",
      "Epoch 95\n",
      "Epoch 96\n",
      "Epoch 97\n",
      "Epoch 98\n",
      "Epoch 99\n",
      "Epoch 100\n"
     ]
    }
   ],
   "source": [
    "for epoch in range(100):\n",
    "    train_loss, test_loss = 0, 0\n",
    "    train_ncorrect, test_ncorrect = 0,0\n",
    "    print(f\"Epoch {epoch+1}\")\n",
    "    for x, y in train_dataloader:\n",
    "        yhat = model(tensor.tensor(x))\n",
    "        loss = loss_function(yhat, tensor.tensor(y))\n",
    "        train_loss += loss.item() * len(y)\n",
    "\n",
    "        train_ncorrect += (yhat.asarray().argmax(axis=-1) == y.argmax(axis=-1)).sum()\n",
    "        loss.backward()\n",
    "        for parameter in model.parameters():\n",
    "            parameter -= lr * parameter.grad\n",
    "    train_loss /= len(train_dataloader.dataset)\n",
    "\n",
    "    for x, y in test_dataloader:\n",
    "        yhat = model(x)\n",
    "        loss = loss_function(yhat, y)\n",
    "        test_loss += loss.item() * len(y)\n",
    "        loss.clear_graph()\n",
    "        test_ncorrect += (yhat.asarray().argmax(axis=-1) == y.argmax(axis=-1)).sum()\n",
    "        \n",
    "    test_loss /= len(test_dataloader.dataset)\n",
    "    loss_log['train_loss'].append(train_loss)\n",
    "    loss_log['test_loss'].append(test_loss)\n",
    "    loss_log['train_accuracy'].append(train_ncorrect / len(train_dataloader.dataset))\n",
    "    loss_log['test_accuracy'].append(test_ncorrect / len(test_dataloader.dataset))"
   ]
  },
  {
   "cell_type": "code",
   "execution_count": 43,
   "metadata": {},
   "outputs": [
    {
     "data": {
      "text/plain": [
       "<matplotlib.legend.Legend at 0x22e59927b50>"
      ]
     },
     "execution_count": 43,
     "metadata": {},
     "output_type": "execute_result"
    },
    {
     "data": {
      "image/png": "[encoded data removed]",
      "text/plain": [
       "<Figure size 432x288 with 1 Axes>"
      ]
     },
     "metadata": {
      "needs_background": "light"
     },
     "output_type": "display_data"
    }
   ],
   "source": [
    "import matplotlib.pyplot as plt\n",
    "plt.plot(loss_log['train_loss'][1:], label='train')\n",
    "plt.plot(loss_log['test_loss'][1:], label='test')\n",
    "plt.legend()"
   ]
  },
  {
   "cell_type": "code",
   "execution_count": 44,
   "metadata": {},
   "outputs": [
    {
     "data": {
      "text/plain": [
       "[<matplotlib.lines.Line2D at 0x22e599918b0>]"
      ]
     },
     "execution_count": 44,
     "metadata": {},
     "output_type": "execute_result"
    },
    {
     "data": {
      "image/png": "[encoded data removed]",
      "text/plain": [
       "<Figure size 432x288 with 1 Axes>"
      ]
     },
     "metadata": {
      "needs_background": "light"
     },
     "output_type": "display_data"
    }
   ],
   "source": [
    "import matplotlib.pyplot as plt\n",
    "plt.plot(loss_log['train_accuracy'], label='train')\n",
    "plt.plot(loss_log['test_accuracy'], label='test')"
   ]
  }
 ],
 "metadata": {
  "interpreter": {
   "hash": "7812ea015bdcee6f23a998adcdd2ef97c151c0c241b7b7070987d9313e41299d"
  },
  "kernelspec": {
   "display_name": "Python 3.9.7 64-bit",
   "name": "python3"
  },
  "language_info": {
   "codemirror_mode": {
    "name": "ipython",
    "version": 3
   },
   "file_extension": ".py",
   "mimetype": "text/x-python",
   "name": "python",
   "nbconvert_exporter": "python",
   "pygments_lexer": "ipython3",
   "version": "3.9.9"
  },
  "orig_nbformat": 4
 },
 "nbformat": 4,
 "nbformat_minor": 2
}

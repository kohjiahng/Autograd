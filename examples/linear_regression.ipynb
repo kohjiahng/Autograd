{
 "cells": [
  {
   "cell_type": "code",
   "execution_count": 1,
   "metadata": {},
   "outputs": [],
   "source": [
    "import sys\n",
    "sys.path.insert(1, '../')\n",
    "from autograd import tensor\n",
    "from autograd import modules\n",
    "import numpy as np\n",
    "from importlib import reload\n",
    "import matplotlib.pyplot as plt\n",
    "\n",
    "reload(tensor)\n",
    "np.random.seed(0)"
   ]
  },
  {
   "cell_type": "markdown",
   "metadata": {},
   "source": [
    "## Generate Data"
   ]
  },
  {
   "cell_type": "code",
   "execution_count": 2,
   "metadata": {},
   "outputs": [],
   "source": [
    "N_FEATURES = 3\n",
    "true_coef = np.random.rand(N_FEATURES, 1)\n",
    "true_bias = np.random.rand(1)\n",
    "\n",
    "x = np.random.rand(100, N_FEATURES)\n",
    "true_y = (x @ true_coef + true_bias).reshape(-1)\n",
    "y = true_y + np.random.normal(scale = 0.05, size = (100,))"
   ]
  },
  {
   "cell_type": "code",
   "execution_count": 3,
   "metadata": {},
   "outputs": [],
   "source": [
    "# Only if x is 1d\n",
    "plt.scatter(x, y)\n",
    "plt.plot(x, true_y, label = 'true')\n",
    "plt.legend()"
   ]
  },
  {
   "cell_type": "markdown",
   "metadata": {},
   "source": [
    "## Linear Regresssion"
   ]
  },
  {
   "cell_type": "code",
   "execution_count": 3,
   "metadata": {},
   "outputs": [],
   "source": [
    "losses = []\n",
    "lin = modules.Linear(N_FEATURES, 1,bias = True)\n",
    "for epoch in range(1000):\n",
    "    total_loss = 0\n",
    "\n",
    "    for range_start in range(0,100,20):\n",
    "        # TODO: Code DataLoader\n",
    "        batch_x = tensor.tensor(x[range_start:range_start + 20], requires_grad = False)\n",
    "        batch_y = tensor.tensor(y[range_start:range_start + 20].reshape(-1,1), requires_grad = False)\n",
    "\n",
    "        yhat = lin(batch_x)\n",
    "\n",
    "        # TODO: Code loss function\n",
    "        error = batch_y - yhat\n",
    "        loss = (error * error).sum()\n",
    "        total_loss += loss.item()\n",
    "\n",
    "        loss.backward()\n",
    "        lin.weights -= lin.weights.grad * 0.001\n",
    "        lin.bias -= lin.bias.grad * 0.001\n",
    "    losses.append(total_loss)\n",
    "        "
   ]
  },
  {
   "cell_type": "markdown",
   "metadata": {},
   "source": [
    "## Visualizing Results"
   ]
  },
  {
   "cell_type": "code",
   "execution_count": 5,
   "metadata": {},
   "outputs": [],
   "source": [
    "# Only if x is 1d\n",
    "plt.scatter(x, y)\n",
    "plt.plot(x, true_y, label = 'true')\n",
    "plt.plot(x,lin(x), label = 'pred')\n",
    "plt.legend()"
   ]
  },
  {
   "cell_type": "code",
   "execution_count": 4,
   "metadata": {},
   "outputs": [
    {
     "data": {
      "text/plain": [
       "[<matplotlib.lines.Line2D at 0x1df5d681a90>]"
      ]
     },
     "execution_count": 4,
     "metadata": {},
     "output_type": "execute_result"
    },
    {
     "data": {
      "image/png": "[encoded data removed]",
      "text/plain": [
       "<Figure size 432x288 with 1 Axes>"
      ]
     },
     "metadata": {
      "needs_background": "light"
     },
     "output_type": "display_data"
    }
   ],
   "source": [
    "plt.plot(losses)"
   ]
  }
 ],
 "metadata": {
  "interpreter": {
   "hash": "7812ea015bdcee6f23a998adcdd2ef97c151c0c241b7b7070987d9313e41299d"
  },
  "kernelspec": {
   "display_name": "Python 3.9.7 64-bit",
   "name": "python3"
  },
  "language_info": {
   "codemirror_mode": {
    "name": "ipython",
    "version": 3
   },
   "file_extension": ".py",
   "mimetype": "text/x-python",
   "name": "python",
   "nbconvert_exporter": "python",
   "pygments_lexer": "ipython3",
   "version": "3.9.9"
  },
  "orig_nbformat": 4
 },
 "nbformat": 4,
 "nbformat_minor": 2
}
